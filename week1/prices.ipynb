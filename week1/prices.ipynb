{
 "cells": [
  {
   "cell_type": "code",
   "execution_count": 27,
   "id": "8b9fb0c6-f162-4c07-8511-571e522d5ee5",
   "metadata": {},
   "outputs": [],
   "source": [
    "import os\n",
    "import matplotlib.pyplot as plt\n",
    "import pandas as pd\n",
    "import numpy as np\n",
    "\n",
    "cwd = os.getcwd()\n",
    "_DATA_PATH = os.path.join(cwd, 'data')"
   ]
  },
  {
   "cell_type": "code",
   "execution_count": 28,
   "id": "8a9c249a-eb3b-4b8b-a0c3-8b2028bf384c",
   "metadata": {},
   "outputs": [
    {
     "data": {
      "text/html": [
       "<div>\n",
       "<style scoped>\n",
       "    .dataframe tbody tr th:only-of-type {\n",
       "        vertical-align: middle;\n",
       "    }\n",
       "\n",
       "    .dataframe tbody tr th {\n",
       "        vertical-align: top;\n",
       "    }\n",
       "\n",
       "    .dataframe thead th {\n",
       "        text-align: right;\n",
       "    }\n",
       "</style>\n",
       "<table border=\"1\" class=\"dataframe\">\n",
       "  <thead>\n",
       "    <tr style=\"text-align: right;\">\n",
       "      <th></th>\n",
       "      <th>period</th>\n",
       "      <th>price</th>\n",
       "      <th>expected</th>\n",
       "      <th>dividend</th>\n",
       "      <th>contracts</th>\n",
       "      <th>participants</th>\n",
       "    </tr>\n",
       "  </thead>\n",
       "  <tbody>\n",
       "    <tr>\n",
       "      <th>0</th>\n",
       "      <td>1</td>\n",
       "      <td>100.0</td>\n",
       "      <td>240</td>\n",
       "      <td>0</td>\n",
       "      <td>12</td>\n",
       "      <td>10</td>\n",
       "    </tr>\n",
       "    <tr>\n",
       "      <th>1</th>\n",
       "      <td>2</td>\n",
       "      <td>140.0</td>\n",
       "      <td>216</td>\n",
       "      <td>8</td>\n",
       "      <td>3</td>\n",
       "      <td>10</td>\n",
       "    </tr>\n",
       "    <tr>\n",
       "      <th>2</th>\n",
       "      <td>3</td>\n",
       "      <td>170.0</td>\n",
       "      <td>192</td>\n",
       "      <td>0</td>\n",
       "      <td>18</td>\n",
       "      <td>10</td>\n",
       "    </tr>\n",
       "    <tr>\n",
       "      <th>3</th>\n",
       "      <td>4</td>\n",
       "      <td>120.0</td>\n",
       "      <td>168</td>\n",
       "      <td>60</td>\n",
       "      <td>8</td>\n",
       "      <td>10</td>\n",
       "    </tr>\n",
       "    <tr>\n",
       "      <th>4</th>\n",
       "      <td>5</td>\n",
       "      <td>120.0</td>\n",
       "      <td>144</td>\n",
       "      <td>8</td>\n",
       "      <td>5</td>\n",
       "      <td>10</td>\n",
       "    </tr>\n",
       "  </tbody>\n",
       "</table>\n",
       "</div>"
      ],
      "text/plain": [
       "   period  price  expected  dividend  contracts  participants\n",
       "0       1  100.0       240         0         12            10\n",
       "1       2  140.0       216         8          3            10\n",
       "2       3  170.0       192         0         18            10\n",
       "3       4  120.0       168        60          8            10\n",
       "4       5  120.0       144         8          5            10"
      ]
     },
     "execution_count": 28,
     "metadata": {},
     "output_type": "execute_result"
    }
   ],
   "source": [
    "df = pd.read_csv(os.path.join(_DATA_PATH, 'prices_summary-market1.csv'))\n",
    "df.head()"
   ]
  },
  {
   "cell_type": "code",
   "execution_count": 29,
   "id": "fe7a69ea-f02d-44ec-9ced-29d9096853aa",
   "metadata": {},
   "outputs": [
    {
     "data": {
      "text/plain": [
       "Text(0.5, 0, 'Trading Period')"
      ]
     },
     "execution_count": 29,
     "metadata": {},
     "output_type": "execute_result"
    }
   ],
   "source": [
    "ax = plt.gca()\n",
    "plt.ylabel('Price')\n",
    "line1 = df.plot.line(x='period', y='price', ax=ax, marker='o')\n",
    "line2 = df.plot.line(x='period', y='expected', ax=ax, style=':', color='darkgrey')\n",
    "\n",
    "plt.xticks(np.arange(0, df['period'].max()+1, 1.0))\n",
    "plt.xlim((.5,df['period'].max()+.5))\n",
    "plt.xlabel('Trading Period')"
   ]
  },
  {
   "cell_type": "markdown",
   "id": "0dfd8df7-f523-4f93-9a38-93512a8734bc",
   "metadata": {},
   "source": [
    "### Add a table with additional market information to the plot\n",
    "\n",
    "Include a table that contains dividend, number of contracts and number of participants for each trading period."
   ]
  },
  {
   "cell_type": "code",
   "execution_count": 30,
   "id": "4d529608-9132-4386-8c24-ff216fc03c9c",
   "metadata": {},
   "outputs": [
    {
     "data": {
      "text/plain": [
       "[['0', '8', '0', '60', '8', '60', '8', '8', '28', '8'],\n",
       " ['12', '3', '18', '8', '5', '1', '3', '2', '4', '2'],\n",
       " ['10', '10', '10', '10', '10', '10', '10', '10', '10', '10']]"
      ]
     },
     "execution_count": 30,
     "metadata": {},
     "output_type": "execute_result"
    }
   ],
   "source": [
    "rows = ['dividend', 'contracts', 'began_round']\n",
    "cell_text = []\n",
    "cell_text.append(['%d' % (df['dividend'][x]) for x in range(df.shape[0])])\n",
    "cell_text.append(['%d' % (df['contracts'][x]) for x in range(df.shape[0])])\n",
    "cell_text.append(['%d' % (df['participants'][x]) for x in range(df.shape[0])])\n",
    "\n",
    "cell_text"
   ]
  },
  {
   "cell_type": "markdown",
   "id": "153e85d7-f98a-4084-9346-c4e983e63611",
   "metadata": {},
   "source": [
    "### Position table\n",
    "\n",
    "The table will appear at the top the of the plot."
   ]
  },
  {
   "cell_type": "code",
   "execution_count": 31,
   "id": "9d81893c-23ac-41f8-a957-8e3cb73b197a",
   "metadata": {},
   "outputs": [],
   "source": [
    "the_table = plt.table(cellText = cell_text,\n",
    "    rowLabels = rows,\n",
    "    loc='top',\n",
    ")"
   ]
  },
  {
   "cell_type": "markdown",
   "id": "1e01503b-277f-4953-bbe1-8f9d06666b49",
   "metadata": {},
   "source": [
    "### Prices in each period"
   ]
  },
  {
   "cell_type": "code",
   "execution_count": 32,
   "id": "8e2a9599-cfaa-4ecc-99b2-14f8041fb407",
   "metadata": {},
   "outputs": [
    {
     "data": {
      "image/png": "[encoded data removed]",
      "text/plain": [
       "<Figure size 640x480 with 1 Axes>"
      ]
     },
     "metadata": {},
     "output_type": "display_data"
    }
   ],
   "source": [
    "plt.subplots_adjust(left=0.2, bottom=0.2)\n",
    "plt.show()"
   ]
  },
  {
   "cell_type": "code",
   "execution_count": null,
   "id": "403074c0-d56f-4dcf-be2e-5bb735d457be",
   "metadata": {},
   "outputs": [],
   "source": []
  }
 ],
 "metadata": {
  "kernelspec": {
   "display_name": "Python 3",
   "language": "python",
   "name": "python3"
  },
  "language_info": {
   "codemirror_mode": {
    "name": "ipython",
    "version": 3
   },
   "file_extension": ".py",
   "mimetype": "text/x-python",
   "name": "python",
   "nbconvert_exporter": "python",
   "pygments_lexer": "ipython3",
   "version": "3.8.11"
  }
 },
 "nbformat": 4,
 "nbformat_minor": 5
}
